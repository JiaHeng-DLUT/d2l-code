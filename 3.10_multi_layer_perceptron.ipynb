{
 "cells": [
  {
   "cell_type": "markdown",
   "metadata": {},
   "source": [
    "[3.10 多层感知机的简洁实现](https://tangshusen.me/Dive-into-DL-PyTorch/#/chapter03_DL-basics/3.10_mlp-pytorch)"
   ]
  },
  {
   "cell_type": "code",
   "execution_count": 1,
   "metadata": {},
   "outputs": [],
   "source": [
    "lr = 0.5\n",
    "batch_size = 256\n",
    "num_workers = 4\n",
    "num_epochs = 10"
   ]
  },
  {
   "cell_type": "code",
   "execution_count": 2,
   "metadata": {},
   "outputs": [],
   "source": [
    "import numpy as np\n",
    "import time\n",
    "import torch\n",
    "import torch.nn as nn\n",
    "import torchvision\n",
    "import torchvision.transforms as transforms"
   ]
  },
  {
   "cell_type": "code",
   "execution_count": 3,
   "metadata": {},
   "outputs": [],
   "source": [
    "num_inputs = 784\n",
    "num_hiddens = 256\n",
    "num_outputs = 10"
   ]
  },
  {
   "cell_type": "code",
   "execution_count": 4,
   "metadata": {},
   "outputs": [],
   "source": [
    "class Perceptron(nn.Module):\n",
    "    def __init__(self):\n",
    "        super(Perceptron, self).__init__()\n",
    "        self.linear1 = nn.Linear(num_inputs, num_hiddens)\n",
    "        self.linear2 = nn.Linear(num_hiddens, num_outputs)\n",
    "        self.softmax = nn.Softmax(dim=1)\n",
    "    \n",
    "    def forward(self, x):\n",
    "        '''\n",
    "        x: (b, h * w)\n",
    "        '''\n",
    "        x = self.linear1(x)\n",
    "        x = self.linear2(x)\n",
    "        x = self.softmax(x)\n",
    "        return x\n",
    "        "
   ]
  },
  {
   "cell_type": "code",
   "execution_count": 5,
   "metadata": {},
   "outputs": [],
   "source": [
    "loss = torch.nn.CrossEntropyLoss()\n",
    "net = Perceptron()\n",
    "optimizer = torch.optim.SGD(net.parameters(), lr=lr)"
   ]
  },
  {
   "cell_type": "code",
   "execution_count": 6,
   "metadata": {},
   "outputs": [
    {
     "name": "stdout",
     "output_type": "stream",
     "text": [
      "60000 10000\n"
     ]
    }
   ],
   "source": [
    "mnist_train = torchvision.datasets.FashionMNIST(root='~/Datasets/FashionMNIST', train=True, download=True, transform=transforms.ToTensor())\n",
    "mnist_test = torchvision.datasets.FashionMNIST(root='~/Datasets/FashionMNIST', train=False, download=True, transform=transforms.ToTensor())\n",
    "print(len(mnist_train), len(mnist_test))\n",
    "train_iter = torch.utils.data.DataLoader(mnist_train, batch_size=batch_size, shuffle=True, num_workers=num_workers)\n",
    "test_iter = torch.utils.data.DataLoader(mnist_test, batch_size=batch_size, shuffle=False, num_workers=num_workers)"
   ]
  },
  {
   "cell_type": "code",
   "execution_count": 7,
   "metadata": {},
   "outputs": [
    {
     "name": "stdout",
     "output_type": "stream",
     "text": [
      "2.57s\n"
     ]
    }
   ],
   "source": [
    "start = time.time()\n",
    "for X, y in train_iter:\n",
    "    continue\n",
    "end = time.time()\n",
    "print('%.2fs' % (end - start))"
   ]
  },
  {
   "cell_type": "code",
   "execution_count": 8,
   "metadata": {},
   "outputs": [
    {
     "name": "stdout",
     "output_type": "stream",
     "text": [
      "epoch: 1\n",
      "train loss: 0.0071\n",
      "train acc: 0.68\n",
      "test loss: 0.0068\n",
      "test acc: 0.77\n",
      "epoch: 2\n",
      "train loss: 0.0066\n",
      "train acc: 0.79\n",
      "test loss: 0.0067\n",
      "test acc: 0.79\n",
      "epoch: 3\n",
      "train loss: 0.0065\n",
      "train acc: 0.80\n",
      "test loss: 0.0067\n",
      "test acc: 0.80\n",
      "epoch: 4\n",
      "train loss: 0.0065\n",
      "train acc: 0.80\n",
      "test loss: 0.0067\n",
      "test acc: 0.79\n",
      "epoch: 5\n",
      "train loss: 0.0064\n",
      "train acc: 0.83\n",
      "test loss: 0.0066\n",
      "test acc: 0.83\n",
      "epoch: 6\n",
      "train loss: 0.0064\n",
      "train acc: 0.84\n",
      "test loss: 0.0065\n",
      "test acc: 0.83\n",
      "epoch: 7\n",
      "train loss: 0.0064\n",
      "train acc: 0.84\n",
      "test loss: 0.0065\n",
      "test acc: 0.83\n",
      "epoch: 8\n",
      "train loss: 0.0063\n",
      "train acc: 0.85\n",
      "test loss: 0.0065\n",
      "test acc: 0.83\n",
      "epoch: 9\n",
      "train loss: 0.0063\n",
      "train acc: 0.85\n",
      "test loss: 0.0067\n",
      "test acc: 0.80\n",
      "epoch: 10\n",
      "train loss: 0.0063\n",
      "train acc: 0.85\n",
      "test loss: 0.0066\n",
      "test acc: 0.83\n"
     ]
    }
   ],
   "source": [
    "for i in range(num_epochs):\n",
    "    print('epoch:', i + 1)\n",
    "    loss_sum = 0.0\n",
    "    train_sum = 0\n",
    "    correct_sum = 0\n",
    "    for X, y in train_iter:\n",
    "        y_hat = net(X.view(-1, num_inputs))\n",
    "        # print(y_hat.shape)\n",
    "        # print(y.shape)\n",
    "        l = loss(y_hat, y)\n",
    "        net.zero_grad()\n",
    "        l.backward()\n",
    "        optimizer.step()\n",
    "        loss_sum += l.item()\n",
    "        train_sum += y.shape[0]\n",
    "        correct_sum += (y == y_hat.argmax(dim=1)).sum().item()\n",
    "    print(f'train loss: %.4f' % (loss_sum / train_sum))\n",
    "    print(f'train acc: %.2f' % (correct_sum / train_sum))\n",
    "    loss_sum = 0.0\n",
    "    test_sum = 0\n",
    "    correct_sum = 0\n",
    "    for X, y in test_iter:\n",
    "        y_hat = net(X.view(-1, num_inputs))\n",
    "        l = loss(y_hat, y)\n",
    "        loss_sum += l.item()\n",
    "        test_sum += y.shape[0]\n",
    "        correct_sum += (y == y_hat.argmax(dim=1)).sum().item()\n",
    "    print(f'test loss: %.4f' % (loss_sum / test_sum))\n",
    "    print(f'test acc: %.2f' % (correct_sum / test_sum))\n",
    "    "
   ]
  },
  {
   "cell_type": "code",
   "execution_count": null,
   "metadata": {},
   "outputs": [],
   "source": []
  }
 ],
 "metadata": {
  "kernelspec": {
   "display_name": "Python 3",
   "language": "python",
   "name": "python3"
  },
  "language_info": {
   "codemirror_mode": {
    "name": "ipython",
    "version": 3
   },
   "file_extension": ".py",
   "mimetype": "text/x-python",
   "name": "python",
   "nbconvert_exporter": "python",
   "pygments_lexer": "ipython3",
   "version": "3.7.9"
  }
 },
 "nbformat": 4,
 "nbformat_minor": 4
}
