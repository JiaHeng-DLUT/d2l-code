{
 "cells": [
  {
   "cell_type": "code",
   "execution_count": 1,
   "metadata": {},
   "outputs": [],
   "source": [
    "import os\n",
    "os.environ[\"CUDA_VISIBLE_DEVICES\"]=\"3\""
   ]
  },
  {
   "cell_type": "code",
   "execution_count": 2,
   "metadata": {},
   "outputs": [],
   "source": [
    "batch_size = 32\n",
    "num_workers = 4\n",
    "lr = 0.001\n",
    "num_epochs = 200"
   ]
  },
  {
   "cell_type": "code",
   "execution_count": 3,
   "metadata": {},
   "outputs": [],
   "source": [
    "conv_arch = ((1, 1, 64), (1, 64, 128), (2, 128, 256), (2, 256, 512), (2, 512, 512))\n",
    "# 每经过一个 VGGBlock，HW 减半，224 / 32 = 7\n",
    "fc_features = 512 * 7 * 7 # c * w * h\n",
    "fc_hidden_units = 4096"
   ]
  },
  {
   "cell_type": "code",
   "execution_count": 4,
   "metadata": {},
   "outputs": [],
   "source": [
    "import torch\n",
    "import torch.nn as nn\n",
    "import torch.nn.functional as F\n",
    "import torchvision\n",
    "import torchvision.transforms as transforms\n",
    "from tqdm import tqdm"
   ]
  },
  {
   "cell_type": "code",
   "execution_count": 5,
   "metadata": {},
   "outputs": [],
   "source": [
    "def vgg_block(num_blocks, in_channels, out_channels):\n",
    "    blk = []\n",
    "    blk.append(nn.Conv2d(in_channels, out_channels, 3, 1, 1))\n",
    "    blk.append(nn.ReLU())\n",
    "    for i in range(num_blocks - 1):\n",
    "        blk.append(nn.Conv2d(out_channels, out_channels, 3, 1, 1))\n",
    "        blk.append(nn.ReLU())\n",
    "    blk.append(nn.MaxPool2d(2, 2))\n",
    "    return nn.Sequential(*blk)"
   ]
  },
  {
   "cell_type": "code",
   "execution_count": 6,
   "metadata": {},
   "outputs": [],
   "source": [
    "class VGGNet(nn.Module):\n",
    "    def __init__(self, conv_arch, fc_features, fc_hidden_units):\n",
    "        super(VGGNet, self).__init__()\n",
    "        self.conv = nn.Sequential()\n",
    "        for i, (num_blocks, in_channels, out_channels) in enumerate(conv_arch):\n",
    "            self.conv.add_module(f'vgg_block_{i}', vgg_block(num_blocks, in_channels, out_channels))\n",
    "        self.fc = nn.Sequential(\n",
    "            nn.Linear(fc_features, fc_hidden_units),\n",
    "            nn.ReLU(),\n",
    "            nn.Dropout(0.5),\n",
    "            nn.Linear(fc_hidden_units, fc_hidden_units),\n",
    "            nn.ReLU(),\n",
    "            nn.Dropout(0.5),\n",
    "            nn.Linear(fc_hidden_units, 10))\n",
    "    \n",
    "    def forward(self, x):\n",
    "        b, c, h, w = x.shape\n",
    "        feature = self.conv(x)\n",
    "        return self.fc(feature.view(b, -1))"
   ]
  },
  {
   "cell_type": "code",
   "execution_count": 7,
   "metadata": {},
   "outputs": [
    {
     "name": "stdout",
     "output_type": "stream",
     "text": [
      "60000 10000\n"
     ]
    }
   ],
   "source": [
    "trans = []\n",
    "trans.append(transforms.Resize((224, 224)))\n",
    "trans.append(transforms.ToTensor())\n",
    "transform = transforms.Compose(trans)\n",
    "mnist_train = torchvision.datasets.FashionMNIST(root='~/Datasets/FashionMNIST', train=True, download=True, transform=transform)\n",
    "mnist_test = torchvision.datasets.FashionMNIST(root='~/Datasets/FashionMNIST', train=False, download=True, transform=transform)\n",
    "print(len(mnist_train), len(mnist_test))\n",
    "train_iter = torch.utils.data.DataLoader(mnist_train, batch_size=batch_size, shuffle=True, num_workers=num_workers)\n",
    "test_iter = torch.utils.data.DataLoader(mnist_test, batch_size=batch_size, shuffle=False, num_workers=num_workers)"
   ]
  },
  {
   "cell_type": "code",
   "execution_count": 8,
   "metadata": {},
   "outputs": [],
   "source": [
    "net = VGGNet(conv_arch, fc_features, fc_hidden_units).cuda()\n",
    "optimizer = torch.optim.Adam(net.parameters(), lr)\n",
    "loss = torch.nn.CrossEntropyLoss()"
   ]
  },
  {
   "cell_type": "code",
   "execution_count": 9,
   "metadata": {},
   "outputs": [],
   "source": [
    "def train_FashionMNIST(net, train_iter, optimizer):\n",
    "    train_loss = 0.0\n",
    "    train_acc = 0.0\n",
    "    train_num = 0\n",
    "    \n",
    "    for X, y in train_iter:\n",
    "        X = X.cuda()\n",
    "        y = y.cuda()\n",
    "        y_hat = net(X)\n",
    "        l = loss(y_hat, y)\n",
    "        optimizer.zero_grad()\n",
    "        # net.zero_grad()\n",
    "        l.backward()\n",
    "        optimizer.step()\n",
    "        \n",
    "        train_loss += l.item()\n",
    "        train_acc += (y_hat.argmax(dim=1) == y).sum().item()\n",
    "        train_num += y.shape[0]\n",
    "    \n",
    "    train_loss /= train_num\n",
    "    train_acc /= train_num\n",
    "    print('train loss: %.4f, train acc: %.3f' % (train_loss, train_acc))"
   ]
  },
  {
   "cell_type": "code",
   "execution_count": 10,
   "metadata": {},
   "outputs": [],
   "source": [
    "def test_FashionMNIST(net, test_iter):\n",
    "    test_acc = 0.0\n",
    "    test_num = 0\n",
    "    \n",
    "    for X, y in test_iter:\n",
    "        X = X.cuda()\n",
    "        y = y.cuda()\n",
    "        y_hat = net(X)\n",
    "        test_acc += (y_hat.argmax(dim=1) == y).sum().item()\n",
    "        test_num += y.shape[0]\n",
    "    \n",
    "    test_acc /= test_num\n",
    "    print('test acc: %.3f' % (test_acc))"
   ]
  },
  {
   "cell_type": "code",
   "execution_count": null,
   "metadata": {},
   "outputs": [
    {
     "name": "stdout",
     "output_type": "stream",
     "text": [
      "epoch: 0\n"
     ]
    }
   ],
   "source": [
    "for i in range(num_epochs):\n",
    "    print(f'epoch: {i}')\n",
    "    train_FashionMNIST(net, train_iter, optimizer)\n",
    "    test_FashionMNIST(net, test_iter)\n",
    "    print('----------------')"
   ]
  },
  {
   "cell_type": "code",
   "execution_count": null,
   "metadata": {},
   "outputs": [],
   "source": [
    "# Adam: lr=0.001, epoch x, test_acc=x, batch_size=64"
   ]
  }
 ],
 "metadata": {
  "kernelspec": {
   "display_name": "Python 3",
   "language": "python",
   "name": "python3"
  },
  "language_info": {
   "codemirror_mode": {
    "name": "ipython",
    "version": 3
   },
   "file_extension": ".py",
   "mimetype": "text/x-python",
   "name": "python",
   "nbconvert_exporter": "python",
   "pygments_lexer": "ipython3",
   "version": "3.7.2"
  }
 },
 "nbformat": 4,
 "nbformat_minor": 4
}
