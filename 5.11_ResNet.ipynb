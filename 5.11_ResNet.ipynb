{
 "cells": [
  {
   "cell_type": "code",
   "execution_count": 1,
   "metadata": {},
   "outputs": [],
   "source": [
    "import os\n",
    "os.environ[\"CUDA_VISIBLE_DEVICES\"] = \"3\""
   ]
  },
  {
   "cell_type": "code",
   "execution_count": 2,
   "metadata": {},
   "outputs": [],
   "source": [
    "batch_size = 256\n",
    "num_workers = 4\n",
    "lr = 0.001\n",
    "num_epochs = 200"
   ]
  },
  {
   "cell_type": "code",
   "execution_count": 3,
   "metadata": {},
   "outputs": [],
   "source": [
    "import torch\n",
    "import torch.nn as nn\n",
    "import torch.nn.functional as F\n",
    "import torchvision\n",
    "import torchvision.transforms as transforms\n",
    "from tqdm import tqdm"
   ]
  },
  {
   "cell_type": "code",
   "execution_count": 4,
   "metadata": {},
   "outputs": [],
   "source": [
    "class Residual(nn.Module):\n",
    "    def __init__(self, in_channels, out_channels, use_1x1conv=False, stride=1):\n",
    "        super(Residual, self).__init__()\n",
    "        self.conv1 = nn.Conv2d(in_channels, out_channels, 3, stride, 1)\n",
    "        self.conv2 = nn.Conv2d(out_channels, out_channels, 3, 1, 1)\n",
    "        if use_1x1conv:\n",
    "            self.conv3 = nn.Conv2d(in_channels, out_channels, 1, stride)\n",
    "        else:\n",
    "            self.conv3 = None\n",
    "        self.bn1 = nn.BatchNorm2d(out_channels)\n",
    "        self.bn2 = nn.BatchNorm2d(out_channels)\n",
    "\n",
    "    def forward(self, x):\n",
    "        out = self.bn2(self.conv2(F.relu(self.bn1(self.conv1(x)))))\n",
    "        if self.conv3:\n",
    "            x = self.conv3(x)\n",
    "        return out + x"
   ]
  },
  {
   "cell_type": "code",
   "execution_count": 5,
   "metadata": {},
   "outputs": [],
   "source": [
    "def residual_block(in_channels, out_channels, num_repeat, first_block=False):\n",
    "    if first_block:\n",
    "        assert in_channels == out_channels\n",
    "    blk = []\n",
    "    for i in range(num_repeat):\n",
    "        if i == 0 and not first_block:\n",
    "            blk.append(Residual(in_channels, out_channels, use_1x1conv=True, stride=2))\n",
    "        else:\n",
    "            blk.append(Residual(out_channels, out_channels))\n",
    "    return nn.Sequential(*blk)"
   ]
  },
  {
   "cell_type": "code",
   "execution_count": 6,
   "metadata": {},
   "outputs": [],
   "source": [
    "class ResNet(nn.Module):\n",
    "    def __init__(self):\n",
    "        super(ResNet, self).__init__()\n",
    "        blk = []\n",
    "        blk.append(nn.Sequential(\n",
    "            nn.Conv2d(1, 64, 7, 2, 3),\n",
    "            nn.BatchNorm2d(64),\n",
    "            nn.ReLU(),\n",
    "            nn.MaxPool2d(3, 2)))\n",
    "        blk.append(residual_block(64, 64, 2, True))\n",
    "        blk.append(residual_block(64, 128, 2))\n",
    "        blk.append(residual_block(128, 256, 2))\n",
    "        blk.append(residual_block(256, 512, 2))\n",
    "        blk.append(nn.AdaptiveAvgPool2d(1))\n",
    "        self.blk = nn.Sequential(*blk)\n",
    "        self.fc = nn.Linear(512, 10)\n",
    "    \n",
    "    def forward(self, x):\n",
    "        b, c, h, w = x.shape\n",
    "        return self.fc(self.blk(x).view(b, -1))"
   ]
  },
  {
   "cell_type": "code",
   "execution_count": 7,
   "metadata": {},
   "outputs": [
    {
     "name": "stdout",
     "output_type": "stream",
     "text": [
      "60000 10000\n"
     ]
    }
   ],
   "source": [
    "trans = []\n",
    "trans.append(transforms.Resize((96, 96)))\n",
    "trans.append(transforms.ToTensor())\n",
    "transform = transforms.Compose(trans)\n",
    "mnist_train = torchvision.datasets.FashionMNIST(root='~/Datasets/FashionMNIST', train=True, download=True, transform=transform)\n",
    "mnist_test = torchvision.datasets.FashionMNIST(root='~/Datasets/FashionMNIST', train=False, download=True, transform=transform)\n",
    "print(len(mnist_train), len(mnist_test))\n",
    "train_iter = torch.utils.data.DataLoader(mnist_train, batch_size=batch_size, shuffle=True, num_workers=num_workers)\n",
    "test_iter = torch.utils.data.DataLoader(mnist_test, batch_size=batch_size, shuffle=False, num_workers=num_workers)"
   ]
  },
  {
   "cell_type": "code",
   "execution_count": 8,
   "metadata": {},
   "outputs": [],
   "source": [
    "net = ResNet().cuda()\n",
    "optimizer = torch.optim.Adam(net.parameters(), lr)\n",
    "loss = torch.nn.CrossEntropyLoss()"
   ]
  },
  {
   "cell_type": "code",
   "execution_count": 9,
   "metadata": {},
   "outputs": [],
   "source": [
    "def train_FashionMNIST(net, train_iter, optimizer):\n",
    "    train_loss = 0.0\n",
    "    train_acc = 0.0\n",
    "    train_num = 0\n",
    "    \n",
    "    for X, y in train_iter:\n",
    "        X = X.cuda()\n",
    "        y = y.cuda()\n",
    "        y_hat = net(X)\n",
    "        l = loss(y_hat, y)\n",
    "        optimizer.zero_grad()\n",
    "        # net.zero_grad()\n",
    "        l.backward()\n",
    "        optimizer.step()\n",
    "        \n",
    "        train_loss += l.item()\n",
    "        train_acc += (y_hat.argmax(dim=1) == y).sum().item()\n",
    "        train_num += y.shape[0]\n",
    "    \n",
    "    train_loss /= train_num\n",
    "    train_acc /= train_num\n",
    "    print('train loss: %.4f, train acc: %.3f' % (train_loss, train_acc))"
   ]
  },
  {
   "cell_type": "code",
   "execution_count": 10,
   "metadata": {},
   "outputs": [],
   "source": [
    "def test_FashionMNIST(net, test_iter):\n",
    "    test_acc = 0.0\n",
    "    test_num = 0\n",
    "    \n",
    "    for X, y in test_iter:\n",
    "        X = X.cuda()\n",
    "        y = y.cuda()\n",
    "        y_hat = net(X)\n",
    "        test_acc += (y_hat.argmax(dim=1) == y).sum().item()\n",
    "        test_num += y.shape[0]\n",
    "    \n",
    "    test_acc /= test_num\n",
    "    print('test acc: %.3f' % (test_acc))"
   ]
  },
  {
   "cell_type": "code",
   "execution_count": null,
   "metadata": {},
   "outputs": [
    {
     "name": "stdout",
     "output_type": "stream",
     "text": [
      "epoch: 0\n",
      "train loss: 0.0019, train acc: 0.831\n",
      "test acc: 0.877\n",
      "----------------\n",
      "epoch: 1\n",
      "train loss: 0.0011, train acc: 0.896\n",
      "test acc: 0.900\n",
      "----------------\n",
      "epoch: 2\n",
      "train loss: 0.0009, train acc: 0.913\n",
      "test acc: 0.901\n",
      "----------------\n",
      "epoch: 3\n",
      "train loss: 0.0008, train acc: 0.921\n",
      "test acc: 0.913\n",
      "----------------\n",
      "epoch: 4\n",
      "train loss: 0.0008, train acc: 0.930\n",
      "test acc: 0.919\n",
      "----------------\n",
      "epoch: 5\n",
      "train loss: 0.0007, train acc: 0.935\n",
      "test acc: 0.923\n",
      "----------------\n",
      "epoch: 6\n",
      "train loss: 0.0006, train acc: 0.940\n",
      "test acc: 0.922\n",
      "----------------\n",
      "epoch: 7\n",
      "train loss: 0.0006, train acc: 0.945\n",
      "test acc: 0.918\n",
      "----------------\n",
      "epoch: 8\n",
      "train loss: 0.0005, train acc: 0.949\n",
      "test acc: 0.923\n",
      "----------------\n",
      "epoch: 9\n",
      "train loss: 0.0005, train acc: 0.954\n",
      "test acc: 0.923\n",
      "----------------\n",
      "epoch: 10\n",
      "train loss: 0.0005, train acc: 0.956\n",
      "test acc: 0.922\n",
      "----------------\n",
      "epoch: 11\n",
      "train loss: 0.0004, train acc: 0.961\n",
      "test acc: 0.925\n",
      "----------------\n",
      "epoch: 12\n",
      "train loss: 0.0004, train acc: 0.964\n",
      "test acc: 0.930\n",
      "----------------\n",
      "epoch: 13\n",
      "train loss: 0.0003, train acc: 0.970\n",
      "test acc: 0.929\n",
      "----------------\n",
      "epoch: 14\n",
      "train loss: 0.0003, train acc: 0.974\n",
      "test acc: 0.928\n",
      "----------------\n",
      "epoch: 15\n",
      "train loss: 0.0003, train acc: 0.974\n",
      "test acc: 0.924\n",
      "----------------\n",
      "epoch: 16\n",
      "train loss: 0.0002, train acc: 0.978\n",
      "test acc: 0.923\n",
      "----------------\n",
      "epoch: 17\n",
      "train loss: 0.0002, train acc: 0.980\n",
      "test acc: 0.927\n",
      "----------------\n",
      "epoch: 18\n",
      "train loss: 0.0002, train acc: 0.981\n",
      "test acc: 0.923\n",
      "----------------\n",
      "epoch: 19\n",
      "train loss: 0.0002, train acc: 0.985\n",
      "test acc: 0.923\n",
      "----------------\n",
      "epoch: 20\n",
      "train loss: 0.0002, train acc: 0.984\n",
      "test acc: 0.926\n",
      "----------------\n",
      "epoch: 21\n",
      "train loss: 0.0001, train acc: 0.987\n",
      "test acc: 0.923\n",
      "----------------\n",
      "epoch: 22\n",
      "train loss: 0.0001, train acc: 0.988\n",
      "test acc: 0.924\n",
      "----------------\n",
      "epoch: 23\n",
      "train loss: 0.0001, train acc: 0.988\n",
      "test acc: 0.932\n",
      "----------------\n",
      "epoch: 24\n",
      "train loss: 0.0001, train acc: 0.990\n",
      "test acc: 0.920\n",
      "----------------\n",
      "epoch: 25\n",
      "train loss: 0.0001, train acc: 0.989\n",
      "test acc: 0.933\n",
      "----------------\n",
      "epoch: 26\n",
      "train loss: 0.0001, train acc: 0.992\n",
      "test acc: 0.927\n",
      "----------------\n",
      "epoch: 27\n"
     ]
    }
   ],
   "source": [
    "for i in range(num_epochs):\n",
    "    print(f'epoch: {i}')\n",
    "    train_FashionMNIST(net, train_iter, optimizer)\n",
    "    test_FashionMNIST(net, test_iter)\n",
    "    print('----------------')"
   ]
  },
  {
   "cell_type": "code",
   "execution_count": null,
   "metadata": {},
   "outputs": [],
   "source": [
    "# Adam: lr=0.001, epoch 49, test_acc=0.920, batch_size=256\n",
    "# Adam: lr=0.005, epoch 0, test_acc=0.100, batch_size=256\n",
    "# Adam: lr=0.0005, epoch 25, test_acc=0.918, batch_size=256"
   ]
  }
 ],
 "metadata": {
  "kernelspec": {
   "display_name": "Python 3",
   "language": "python",
   "name": "python3"
  },
  "language_info": {
   "codemirror_mode": {
    "name": "ipython",
    "version": 3
   },
   "file_extension": ".py",
   "mimetype": "text/x-python",
   "name": "python",
   "nbconvert_exporter": "python",
   "pygments_lexer": "ipython3",
   "version": "3.7.2"
  }
 },
 "nbformat": 4,
 "nbformat_minor": 2
}
