{
 "cells": [
  {
   "cell_type": "code",
   "execution_count": null,
   "metadata": {},
   "outputs": [],
   "source": [
    "import os\n",
    "os.environ[\"CUDA_VISIBLE_DEVICES\"] = \"3\""
   ]
  },
  {
   "cell_type": "code",
   "execution_count": null,
   "metadata": {},
   "outputs": [],
   "source": [
    "batch_size = 256\n",
    "num_workers = 4\n",
    "lr = 0.01\n",
    "num_epochs = 50"
   ]
  },
  {
   "cell_type": "code",
   "execution_count": null,
   "metadata": {},
   "outputs": [],
   "source": [
    "import torch\n",
    "import torch.nn as nn\n",
    "import torch.nn.functional as F\n",
    "import torchvision\n",
    "import torchvision.transforms as transforms\n",
    "from tqdm import tqdm"
   ]
  },
  {
   "cell_type": "code",
   "execution_count": null,
   "metadata": {},
   "outputs": [],
   "source": [
    "class Inception(nn.Module):\n",
    "    def __init__(self, in_c, c1, c2, c3, c4):\n",
    "        super(Inception, self).__init__()\n",
    "        # path 1\n",
    "        self.p1_1 = nn.Conv2d(in_c, c1, 1)\n",
    "        # path 2\n",
    "        self.p2_1 = nn.Conv2d(in_c, c2[0], 1)\n",
    "        self.p2_2 = nn.Conv2d(c2[0], c2[1], 3, 1, 1)\n",
    "        # path 3\n",
    "        self.p3_1 = nn.Conv2d(in_c, c3[0], 1)\n",
    "        self.p3_2 = nn.Conv2d(c3[0], c3[1], 5, 1, 2)\n",
    "        # path 4\n",
    "        self.p4_1 = nn.MaxPool2d(3, 1, 1)\n",
    "        self.p4_2 = nn.Conv2d(in_c, c4, 1)\n",
    "    \n",
    "    def forward(self, x):\n",
    "        p1 = F.relu(self.p1_1(x))\n",
    "        p2 = F.relu(self.p2_2(F.relu(self.p2_1(x))))\n",
    "        p3 = F.relu(self.p3_2(F.relu(self.p3_1(x))))\n",
    "        p4 = F.relu(self.p4_2(self.p4_1(x)))\n",
    "        return torch.cat([p1, p2, p3, p4], dim=1)"
   ]
  },
  {
   "cell_type": "code",
   "execution_count": null,
   "metadata": {},
   "outputs": [],
   "source": [
    "class GoogLeNet(nn.Module):\n",
    "    def __init__(self):\n",
    "        super(GoogLeNet, self).__init__()\n",
    "        b1 = nn.Sequential(\n",
    "            nn.Conv2d(1, 64, 7, 2, 3),\n",
    "            nn.ReLU(),\n",
    "            nn.MaxPool2d(3, 2, 1))\n",
    "        b2 = nn.Sequential(\n",
    "            nn.Conv2d(64, 64, 1),\n",
    "            nn.Conv2d(64, 192, 3, 1, 1),\n",
    "            nn.MaxPool2d(3, 2, 1))\n",
    "        b3 = nn.Sequential(\n",
    "            Inception(192, 64, (96, 128), (16, 32), 32),\n",
    "            Inception(256, 128, (128, 192), (32, 96), 64))\n",
    "        b4 = nn.Sequential(\n",
    "            Inception(480, 192, (96, 208), (16, 48), 64),\n",
    "            Inception(512, 160, (112, 224), (24, 64), 64),\n",
    "            Inception(512, 128, (128, 256), (24, 64), 64),\n",
    "            Inception(512, 112, (144, 288), (32, 64), 64),\n",
    "            Inception(528, 256, (160, 320), (32, 128), 128),\n",
    "            nn.MaxPool2d(kernel_size=3, stride=2, padding=1))\n",
    "        b5 = nn.Sequential(\n",
    "            Inception(832, 256, (160, 320), (32, 128), 128),\n",
    "            Inception(832, 384, (192, 384), (48, 128), 128),\n",
    "            nn.AdaptiveAvgPool2d((1, 1)))\n",
    "        self.bs = nn.Sequential(b1, b2, b3, b4, b5)\n",
    "        self.fc = nn.Linear(1024, 10)\n",
    "    def forward(self, x):\n",
    "        b = x.shape[0]\n",
    "        feature = self.bs(x)\n",
    "        return self.fc(feature.view(b, -1))"
   ]
  },
  {
   "cell_type": "code",
   "execution_count": null,
   "metadata": {},
   "outputs": [],
   "source": [
    "trans = []\n",
    "trans.append(transforms.Resize((96, 96)))\n",
    "trans.append(transforms.ToTensor())\n",
    "transform = transforms.Compose(trans)\n",
    "mnist_train = torchvision.datasets.FashionMNIST(root='~/Datasets/FashionMNIST', train=True, download=True, transform=transform)\n",
    "mnist_test = torchvision.datasets.FashionMNIST(root='~/Datasets/FashionMNIST', train=False, download=True, transform=transform)\n",
    "print(len(mnist_train), len(mnist_test))\n",
    "train_iter = torch.utils.data.DataLoader(mnist_train, batch_size=batch_size, shuffle=True, num_workers=num_workers)\n",
    "test_iter = torch.utils.data.DataLoader(mnist_test, batch_size=batch_size, shuffle=False, num_workers=num_workers)"
   ]
  },
  {
   "cell_type": "code",
   "execution_count": null,
   "metadata": {},
   "outputs": [],
   "source": [
    "net = GoogLeNet().cuda()\n",
    "optimizer = torch.optim.Adam(net.parameters(), lr)\n",
    "loss = torch.nn.CrossEntropyLoss()"
   ]
  },
  {
   "cell_type": "code",
   "execution_count": null,
   "metadata": {},
   "outputs": [],
   "source": [
    "def train_FashionMNIST(net, train_iter, optimizer):\n",
    "    train_loss = 0.0\n",
    "    train_acc = 0.0\n",
    "    train_num = 0\n",
    "    \n",
    "    for X, y in train_iter:\n",
    "        X = X.cuda()\n",
    "        y = y.cuda()\n",
    "        y_hat = net(X)\n",
    "        l = loss(y_hat, y)\n",
    "        optimizer.zero_grad()\n",
    "        # net.zero_grad()\n",
    "        l.backward()\n",
    "        optimizer.step()\n",
    "        \n",
    "        train_loss += l.item()\n",
    "        train_acc += (y_hat.argmax(dim=1) == y).sum().item()\n",
    "        train_num += y.shape[0]\n",
    "    \n",
    "    train_loss /= train_num\n",
    "    train_acc /= train_num\n",
    "    print('train loss: %.4f, train acc: %.3f' % (train_loss, train_acc))"
   ]
  },
  {
   "cell_type": "code",
   "execution_count": null,
   "metadata": {},
   "outputs": [],
   "source": [
    "def test_FashionMNIST(net, test_iter):\n",
    "    test_acc = 0.0\n",
    "    test_num = 0\n",
    "    \n",
    "    for X, y in test_iter:\n",
    "        X = X.cuda()\n",
    "        y = y.cuda()\n",
    "        y_hat = net(X)\n",
    "        test_acc += (y_hat.argmax(dim=1) == y).sum().item()\n",
    "        test_num += y.shape[0]\n",
    "    \n",
    "    test_acc /= test_num\n",
    "    print('test acc: %.3f' % (test_acc))"
   ]
  },
  {
   "cell_type": "code",
   "execution_count": null,
   "metadata": {},
   "outputs": [],
   "source": [
    "for i in range(num_epochs):\n",
    "    print(f'epoch: {i}')\n",
    "    train_FashionMNIST(net, train_iter, optimizer)\n",
    "    test_FashionMNIST(net, test_iter)\n",
    "    print('----------------')"
   ]
  },
  {
   "cell_type": "code",
   "execution_count": null,
   "metadata": {},
   "outputs": [],
   "source": [
    "# Adam: lr=0.001, epoch 49, test_acc=0.920, batch_size=256\n",
    "# Adam: lr=0.005, epoch 0, test_acc=0.100, batch_size=256\n",
    "# Adam: lr=0.0005, epoch 25, test_acc=0.918, batch_size=256\n",
    "# Adam: lr=0.01, epoch 0, test_acc=0.01, batch_size=256"
   ]
  }
 ],
 "metadata": {
  "kernelspec": {
   "display_name": "Python 3",
   "language": "python",
   "name": "python3"
  },
  "language_info": {
   "codemirror_mode": {
    "name": "ipython",
    "version": 3
   },
   "file_extension": ".py",
   "mimetype": "text/x-python",
   "name": "python",
   "nbconvert_exporter": "python",
   "pygments_lexer": "ipython3",
   "version": "3.7.2"
  }
 },
 "nbformat": 4,
 "nbformat_minor": 2
}
